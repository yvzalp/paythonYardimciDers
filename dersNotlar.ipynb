{
 "cells": [
  {
   "cell_type": "code",
   "execution_count": null,
   "metadata": {},
   "outputs": [],
   "source": []
  },
  {
   "cell_type": "code",
   "execution_count": 1,
   "metadata": {},
   "outputs": [
    {
     "name": "stdout",
     "output_type": "stream",
     "text": [
      "Merhaba Dünya\n",
      "Bilgisayar Bilimi Kodlama\n",
      "BilgisayarBilimiKodlama\n",
      "BilgisayarBilimiKodlama\n",
      "2 5 7\n",
      "Bir cumle \n",
      "kuralim\n",
      "Bir cumle \tkuralim\n",
      "k a h t a l ı\n"
     ]
    }
   ],
   "source": [
    "print('''Merhaba Dünya''') # üç kesme işareti ile de yazilir\n",
    "\n",
    "print('Bilgisayar','Bilimi','Kodlama')#kelime aralainda bosluk koyar\n",
    "\n",
    "print('Bilgisayar'+'Bilimi'+'Kodlama') #concat bu boşluk koymaz araya\n",
    "\n",
    "print('Bilgisayar''Bilimi''Kodlama')#kelime aralarina birşey koymadanda yazdirabiliriz\n",
    "\n",
    "print(2,5,7) #int degerlerde araya vigül koymadan olmaz\n",
    "\n",
    "print('Bir cumle \\nkuralim') # \\n bu ifade bir satir alta atar\n",
    "\n",
    "print('Bir cumle \\tkuralim') # \\t bu ifade bir tab miktari boşluk koyar\n",
    "\n",
    "print(*'kahtalı') # * yıldız işareti stringi parcalara böler\n",
    "\n",
    "#sunlarada göz gezdir\n",
    "# end=\"\" default degeri \\n ile aynidir\n",
    "# sep=\"\" ayirici ayrac manasina gelir bosluk bırakilmazsa elemanlari birlestirir, sep=\".\" koyarsan karakterler arasina nokta koyar\n",
    "\n"
   ]
  },
  {
   "cell_type": "code",
   "execution_count": 4,
   "metadata": {},
   "outputs": [
    {
     "data": {
      "text/plain": [
       "' Eğitimi'"
      ]
     },
     "execution_count": 4,
     "metadata": {},
     "output_type": "execute_result"
    }
   ],
   "source": [
    "a=\"Kodlama\"\n",
    "a[0] #'K'\n",
    "\n",
    "a[2] #'d'\n",
    "\n",
    "a[-1] #sondan 1.karakter 'a'\n",
    "\n",
    "a[-3] #'a'\n",
    "\n",
    "a[2:6] #'dlam'\n",
    "\n",
    "a[:6] #baştan 6.karaktere kadar tüm karakterler 'Kodlam'\n",
    "\n",
    "a[2:] #2.karakterden sona kadar tüm karakterler 'dlama'\n",
    "\n",
    "a[:] #tüm karakterler\n",
    "#'Kodlama'\n",
    "a[2:-2] # 2den baslar sondan -2 ye kdar\n",
    "#'dla' \n",
    "a[:-2] #batan baslayip sondan -2 ye kadar olan kısım\n",
    "#'Kodla'\n",
    "a=\"Kodlama Eğitimi\"\n",
    "a[2:13:2] #2.karakterden 13.karaktere kadar 2 sıra atlayarak\n",
    "#'daaEii' \n",
    "a[::2] #Baştan sona kadar 2 sıra atlayarak\n",
    "#'KdaaEiii'\n",
    "a[::-1] #Sondan başa kadar 1 sıra atlayarak -2 yazmiş olsak atlayarak yazdirir\n",
    "#'imitiğE amaldoK'\n",
    "a[-8:]"
   ]
  },
  {
   "cell_type": "code",
   "execution_count": 9,
   "metadata": {},
   "outputs": [
    {
     "data": {
      "text/plain": [
       "'Ali ve Veli çok iyi arkadaştır.'"
      ]
     },
     "execution_count": 9,
     "metadata": {},
     "output_type": "execute_result"
    }
   ],
   "source": [
    "# format kullanımını 2. yöntemi\n",
    "\n",
    "a = \"{} ve {} çok iyi arkadaştır.\" #değişken tanimladik \n",
    "\n",
    "a.format(\"Ali\", \"Veli\")  #değişken üzerinden degerleri format yaptik"
   ]
  },
  {
   "cell_type": "code",
   "execution_count": 11,
   "metadata": {},
   "outputs": [
    {
     "data": {
      "text/plain": [
       "'Murat Ali Veli'"
      ]
     },
     "execution_count": 11,
     "metadata": {},
     "output_type": "execute_result"
    }
   ],
   "source": [
    "#format kullanimi 3.yöntem\n",
    "\n",
    "\"{2} {0} {1}\".format(\"Ali\",\"Veli\",\"Murat\") #bu şekilde print ediyor\n"
   ]
  },
  {
   "cell_type": "code",
   "execution_count": 12,
   "metadata": {},
   "outputs": [
    {
     "name": "stdout",
     "output_type": "stream",
     "text": [
      "1 sa 0 dk 0 sn\n"
     ]
    }
   ],
   "source": [
    "saniye = int (input (\"saniye sayısını girin:\"))\n",
    "saat = saniye // 3600 #3600 saniye = 1 saat \n",
    "saniye = saniye% 3600\n",
    "dakika = saniye // 60 #60 saniye = 1 dakika \n",
    "saniye = saniye% 60\n",
    "print(saat, \"sa\", dakika, \"dk\", saniye, \"sn\")\n",
    " \n",
    " "
   ]
  },
  {
   "cell_type": "code",
   "execution_count": 15,
   "metadata": {},
   "outputs": [
    {
     "data": {
      "text/plain": [
       "1"
      ]
     },
     "execution_count": 15,
     "metadata": {},
     "output_type": "execute_result"
    }
   ],
   "source": [
    "#Üs Alma İkinci Yol:   not:bu şekilde print kullanılmadan cıktı veriyor ancak son satiri\n",
    "pow(5,2) #25\n",
    "pow(5,-1) #0.2\n",
    "pow(5,0) #1\n",
    "print(pow(11,3,4)) #3 -11’in 3. kuvveti olan 1331’in 4‘e bölümünden kalan sayı\n"
   ]
  },
  {
   "cell_type": "code",
   "execution_count": 17,
   "metadata": {},
   "outputs": [
    {
     "data": {
      "text/plain": [
       "500.0"
      ]
     },
     "execution_count": 17,
     "metadata": {},
     "output_type": "execute_result"
    }
   ],
   "source": [
    "#Not: 5*103**3 gibi bir ifade şöyle yazılabilir:\n",
    "5e2  \n",
    "#5E2"
   ]
  },
  {
   "cell_type": "code",
   "execution_count": 19,
   "metadata": {},
   "outputs": [
    {
     "data": {
      "text/plain": [
       "12.0"
      ]
     },
     "execution_count": 19,
     "metadata": {},
     "output_type": "execute_result"
    }
   ],
   "source": [
    "#Karekök Alma: Bir sayının 0.5. kuvveti o sayının kareköküdür. \n",
    " \n",
    "144**0.5 \n",
    " "
   ]
  },
  {
   "cell_type": "code",
   "execution_count": 22,
   "metadata": {},
   "outputs": [
    {
     "data": {
      "text/plain": [
       "14"
      ]
     },
     "execution_count": 22,
     "metadata": {},
     "output_type": "execute_result"
    }
   ],
   "source": [
    "#bu sekilde degişken tanimlayip print kullanmadan yazdirilabilir\n",
    "a=5\n",
    "b=9\n",
    "\n",
    "a+b"
   ]
  },
  {
   "cell_type": "code",
   "execution_count": 26,
   "metadata": {},
   "outputs": [
    {
     "data": {
      "text/plain": [
       "2.0"
      ]
     },
     "execution_count": 26,
     "metadata": {},
     "output_type": "execute_result"
    }
   ],
   "source": [
    "#_ (alt çizgi işareti): Son verinin değerini hafızada tutar.\n",
    "10+5 \n",
    "  #15\n",
    "_+5 #altçizgi ile 5’i topladık.\n",
    "  #20 #artık son öğe 15 değil 20 oldu.\n",
    "_/10\n",
    "  #2.0"
   ]
  },
  {
   "cell_type": "code",
   "execution_count": 27,
   "metadata": {},
   "outputs": [
    {
     "data": {
      "text/plain": [
       "True"
      ]
     },
     "execution_count": 27,
     "metadata": {},
     "output_type": "execute_result"
    }
   ],
   "source": [
    "#alfabetik sıralamaya göre \n",
    "\"Bilim\"<\"Kodlama\" "
   ]
  },
  {
   "cell_type": "code",
   "execution_count": 29,
   "metadata": {},
   "outputs": [
    {
     "data": {
      "text/plain": [
       "False"
      ]
     },
     "execution_count": 29,
     "metadata": {},
     "output_type": "execute_result"
    }
   ],
   "source": [
    "# Not: Bool işleçleri sadece doğruluk-yanlışlık sorgulamaya yarayan araçlar değildir. \n",
    "# Bilgisayar biliminde her şeyin bir bool değeri vardır. 0 değeri ve boş veri tipleri False ‘tur. \n",
    "# Bunlar dışında kalan her şey ise True ‘dur.\n",
    "# bool(5) True\n",
    "# bool(5.8) #True\n",
    "# bool(-5) #True\n",
    "# bool(\"Steve Jobs\") #True\n",
    "# bool(\"0\") #True\n",
    "# bool(\" \") #True\n",
    "# bool() #False\n",
    "bool(\"\") #False  #bosluk false döner\n",
    "# bool(0) #False #-0-false döner\n",
    "# bool(0.0) #False #0.0 false döner\n"
   ]
  },
  {
   "cell_type": "code",
   "execution_count": 33,
   "metadata": {},
   "outputs": [
    {
     "data": {
      "text/plain": [
       "True"
      ]
     },
     "execution_count": 33,
     "metadata": {},
     "output_type": "execute_result"
    }
   ],
   "source": [
    "# not: Değil anlamı taşır. Kullanıcı tarafından bir değişkene veri girilip girilmediğini \n",
    "# denetlemek için kullanılabilir.\n",
    "\n",
    "# a = 23\n",
    "# not a \n",
    "#False\n",
    "a = \"\" \n",
    "not a\n",
    "# #True\n",
    "# a=0\n",
    "# not a\n",
    "#True\n"
   ]
  },
  {
   "cell_type": "code",
   "execution_count": 35,
   "metadata": {},
   "outputs": [
    {
     "name": "stdout",
     "output_type": "stream",
     "text": [
      "Parola boş bırakılamaz!\n"
     ]
    }
   ],
   "source": [
    "#not kullanimi\n",
    "parola = input(\"parola: \")\n",
    "if not parola:\n",
    " print(\"Parola boş bırakılamaz!\")\n",
    "else:\n",
    " print(\"İşlem tamam\")"
   ]
  },
  {
   "cell_type": "code",
   "execution_count": 37,
   "metadata": {},
   "outputs": [
    {
     "data": {
      "text/plain": [
       "False"
      ]
     },
     "execution_count": 37,
     "metadata": {},
     "output_type": "execute_result"
    }
   ],
   "source": [
    "# Aitlik Operatörü: Aitlik işleçleri, bir karakter dizisi ya da sayının, herhangi bir veri içinde \n",
    "# bulunup bulunmadığını sorgular. Python ’da bir tane aitlik işleci bulunur. Bu işleç de -in-\n",
    "# işlecidir. \n",
    "a = \"abcd\"\n",
    "\"b\" in a  #\"b\"  ifadesi a değişkeninin içinde mi?\n",
    "#True\n",
    "\"f\" in a #“f” ifadesi a değişkeninin içinde mi?\n",
    "#False"
   ]
  },
  {
   "cell_type": "code",
   "execution_count": 38,
   "metadata": {},
   "outputs": [
    {
     "data": {
      "text/plain": [
       "1626429459792"
      ]
     },
     "execution_count": 38,
     "metadata": {},
     "output_type": "execute_result"
    }
   ],
   "source": [
    "# Kimlik Operatörü: Python ‘da her şeyin bir kimlik numarası vardır. id() fonksiyonu ile bu \n",
    "# kimlik numarasını bulabiliriz.\n",
    "a = 100\n",
    "id(a)\n",
    "#137990748 a değişkeninin temsil ettiği 100 sayısının kimlik numarası\n"
   ]
  },
  {
   "cell_type": "code",
   "execution_count": 4,
   "metadata": {},
   "outputs": [
    {
     "data": {
      "text/plain": [
       "2"
      ]
     },
     "execution_count": 4,
     "metadata": {},
     "output_type": "execute_result"
    }
   ],
   "source": [
    "#egişken tanimlama\n",
    "x=y=z=2\n",
    "x\n",
    "y"
   ]
  },
  {
   "cell_type": "code",
   "execution_count": 12,
   "metadata": {},
   "outputs": [
    {
     "name": "stdout",
     "output_type": "stream",
     "text": [
      "10\n"
     ]
    }
   ],
   "source": [
    "# a yeni degerler verebiliriz son verdiğimiz deger atanmiş olur\n",
    "a=3\n",
    "a\n",
    "a=5\n",
    "a\n",
    "a=10\n",
    "\n",
    "print(a) #son atadiğimiz egeri aldi"
   ]
  }
 ],
 "metadata": {
  "kernelspec": {
   "display_name": "Python 3.10.7 64-bit (microsoft store)",
   "language": "python",
   "name": "python3"
  },
  "language_info": {
   "codemirror_mode": {
    "name": "ipython",
    "version": 3
   },
   "file_extension": ".py",
   "mimetype": "text/x-python",
   "name": "python",
   "nbconvert_exporter": "python",
   "pygments_lexer": "ipython3",
   "version": "3.10.7"
  },
  "orig_nbformat": 4,
  "vscode": {
   "interpreter": {
    "hash": "7b60276908c3349bf0a2cf69de4d7bf4bae3bf371057c4ac156f4be27a89a82c"
   }
  }
 },
 "nbformat": 4,
 "nbformat_minor": 2
}
