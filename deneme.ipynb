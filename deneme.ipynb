{
 "cells": [
  {
   "cell_type": "code",
   "execution_count": 2,
   "metadata": {},
   "outputs": [
    {
     "name": "stdout",
     "output_type": "stream",
     "text": [
      "kıbrıs\n",
      "mora\n",
      "burgaza\n"
     ]
    }
   ],
   "source": [
    "adalar=[\"kıbrıs\",\"mora\",\"burgaza\"]\n",
    "\n",
    "for i in adalar:\n",
    "    print(i)"
   ]
  },
  {
   "cell_type": "code",
   "execution_count": 4,
   "metadata": {},
   "outputs": [
    {
     "name": "stdout",
     "output_type": "stream",
     "text": [
      "int br sayi giriniz\n"
     ]
    }
   ],
   "source": [
    "try:\n",
    "  sayi =int(input(\"bir sayi giriniz\"))\n",
    "  sayi1=int(input(\"birsayi giriniz\"))\n",
    "  \n",
    "  print(sayi//sayi1)\n",
    "except ValueError:\n",
    "    print(\"int br sayi giriniz\")\n",
    "except ZeroDivisionError:\n",
    "    print(\"sayi sıfıra bölünemez\")    \n"
   ]
  },
  {
   "cell_type": "code",
   "execution_count": null,
   "metadata": {},
   "outputs": [],
   "source": [
    "str=\"techpro education\"\n",
    "\n",
    "for i in str:\n",
    "    print(i)"
   ]
  },
  {
   "cell_type": "code",
   "execution_count": 6,
   "metadata": {},
   "outputs": [
    {
     "name": "stdout",
     "output_type": "stream",
     "text": [
      "azim gayret emek fedakarlik.\n"
     ]
    }
   ],
   "source": [
    "#Kullanicidan 4 kelime isteyin ve cumle olarak yazdirip sonuna (.) koyun\n",
    "\n",
    "kelime1=input(\"bir kelime giriniz\")\n",
    "\n",
    "kelime2=input(\"bir kelime giriniz\")\n",
    "\n",
    "kelime3=input(\"bir kelime giriniz\")\n",
    "\n",
    "kelime4=input(\"bir kelime giriniz\")\n",
    "\n",
    "print(f\"{kelime1} {kelime2} {kelime3} {kelime4}\")"
   ]
  },
  {
   "cell_type": "code",
   "execution_count": null,
   "metadata": {},
   "outputs": [],
   "source": [
    " \n",
    "    #  * girilen String icinde \"xyz\" dizimi var ise true; degilse false return eden metod yaziniz\n",
    "    #  *\n",
    "    #  * input      output\n",
    "    #  * axyzm  ==   true\n",
    "    #  * xyz    ==   true\n",
    "    #  * x.yz   ==   false\n",
    "    #  * xyaz   ==   false\n",
    "    \n",
    " "
   ]
  },
  {
   "cell_type": "code",
   "execution_count": 10,
   "metadata": {},
   "outputs": [
    {
     "name": "stdout",
     "output_type": "stream",
     "text": [
      "True\n"
     ]
    }
   ],
   "source": [
    "# ö=\"hjkl\"\n",
    "\n",
    "# print(ö.__contains__(\"jk\"))\n",
    "\n",
    "\n",
    "\n",
    "def kell(x)->str:\n",
    "    if x.__contains__(\"xyz\"):\n",
    "        return True\n",
    "    else:\n",
    "        return False\n",
    "    \n",
    "\n",
    "\n",
    "print(kell(\"ghyhjxyzfghj\"))\n"
   ]
  },
  {
   "cell_type": "code",
   "execution_count": 7,
   "metadata": {},
   "outputs": [
    {
     "name": "stdout",
     "output_type": "stream",
     "text": [
      "mehmed\n",
      "mehahmedmed\n"
     ]
    }
   ],
   "source": [
    "# name1 ve name2 degiskenlerini olusturun.\n",
    "# \t\tname1 degiskeninin karakter sayisi cift ise kelimenin ortasina name2 yi yerlestirin.\n",
    "# \t\tname1 degiskeninin karakter sayisi tek ise \"name1 cift sayili olmadigi icin ortasina yerlestiremedik\" yazdirin.\n",
    "# \t\t          e.g:\n",
    "# \t\t         name1= mehmet\n",
    "# \t\t         name2= ahmet\n",
    "# \t\t         Print ==> mehahmetmet\n",
    "\n",
    "                   \n",
    "                    \n",
    "\n",
    "name1=\"mehmed\"\n",
    "name2=\"ahmed\"\n",
    "\n",
    "\n",
    "print(name1) \n",
    "\n",
    "if len(name1)%2==0:\n",
    "    print(name1[:3]+name2+name1[3:])\n",
    "else:    \n",
    "    print(\"name1 çift sayili olmadiği için yazdiramadik\")\n",
    "        "
   ]
  },
  {
   "cell_type": "code",
   "execution_count": 25,
   "metadata": {},
   "outputs": [
    {
     "name": "stdout",
     "output_type": "stream",
     "text": [
      "eşit\n"
     ]
    }
   ],
   "source": [
    "# Kullanicidan isim ve soyismini girmesini isteyin ve hangisinin daha uzun oldugunu yazdirin.\n",
    "\n",
    "isim=input(\"ismizi giriniz\")\n",
    "soyİsim=input(\"soy isminizi giriniz\")\n",
    "\n",
    "if len(isim)>len(soyİsim):\n",
    "    print(\"isim uzun\")\n",
    "elif len(isim)<len(soyİsim) :\n",
    "    print(\"soy isim uzun\")      \n",
    "else:\n",
    "    print(\"eşit\")     "
   ]
  },
  {
   "cell_type": "code",
   "execution_count": 41,
   "metadata": {},
   "outputs": [
    {
     "name": "stdout",
     "output_type": "stream",
     "text": [
      "\n"
     ]
    }
   ],
   "source": [
    "#  Problem tanımı :\n",
    "#         Bir String içindeki tüm karakterleri en fazla bir kez yazdıran parametreli bir method yazınız.\n",
    "#         Test Data:\n",
    "#         input: \"aabbcccccddddaaa\"\n",
    "#         output: abcd\n",
    "\n",
    "\n",
    "\n",
    "\n",
    "  # bu kalsin geri cözmem gerekiyor\n",
    "\n",
    "\n",
    "x=\"fghjkllmnnoy\"\n",
    "bos=\"\"\n",
    "\n",
    "for i in x:\n",
    "  if not(i.__contains__(bos)):\n",
    "    bos +=x[i]\n",
    "    \n",
    "        \n",
    "\n",
    "\n",
    "\n",
    "# birkez(\"fghjlşpoıuyfxvb\")\n",
    "print(bos)    "
   ]
  },
  {
   "cell_type": "code",
   "execution_count": 56,
   "metadata": {},
   "outputs": [
    {
     "name": "stdout",
     "output_type": "stream",
     "text": [
      "1\n"
     ]
    }
   ],
   "source": [
    "input=\"AAAABBB\"\n",
    "\n",
    "A=input.count(\"A\")\n",
    "B=input.count(\"B\")\n",
    "\n",
    "print(A-B) # 1\n",
    "    \n"
   ]
  },
  {
   "cell_type": "code",
   "execution_count": null,
   "metadata": {},
   "outputs": [],
   "source": [
    " #100'den 0'a kadar 13'e tam bölünebilen sayıları ekrana yazdırınız (büyükten küçüğe).\n",
    "liste=[]    \n",
    "       \n",
    "for i in range(13,101):\n",
    "    if i%13==0:\n",
    "       liste.append(i)\n",
    "       print(i)      \n",
    "\n",
    "\n",
    "print(liste[::-1])        "
   ]
  },
  {
   "cell_type": "code",
   "execution_count": 4,
   "metadata": {},
   "outputs": [
    {
     "name": "stdout",
     "output_type": "stream",
     "text": [
      "20 10\n"
     ]
    }
   ],
   "source": [
    "# kullanici dan iki sayi alarak toplamini ve ortalamasini yazdiriniz\n",
    "\n",
    "sayi1=int(input(\"bir sayi giriniz\"))\n",
    "sayi2=int(input(\"bir sayi giriniz\"))\n",
    "\n",
    "toplam =sayi1+sayi2\n",
    "ortalama=toplam/2\n",
    "\n",
    "print(toplam,ortalama)"
   ]
  },
  {
   "cell_type": "code",
   "execution_count": null,
   "metadata": {},
   "outputs": [],
   "source": [
    "#kullanicidan üç aet sayi al ve en büyügü ve en kücügü bul\n",
    "sayi1=int(input(\"bir sayi giriniz\"))\n",
    "sayi2=int(input(\"bir sayi giriniz\"))\n",
    "sayi3=int(input(\"bir sayi giriniz\"))\n",
    "\n",
    "minMax=[sayi1,sayi2,sayi3]\n",
    "\n",
    "print(minMax)\n",
    "minMax.sort()\n",
    "\n",
    "minMax[0]\n",
    "minMax[-1]\n",
    "print(minMax[0])\n",
    "print(minMax[-1])\n",
    "\n"
   ]
  },
  {
   "cell_type": "code",
   "execution_count": 3,
   "metadata": {},
   "outputs": [
    {
     "name": "stdout",
     "output_type": "stream",
     "text": [
      "sayi3 en büyük sayidir\n"
     ]
    }
   ],
   "source": [
    "#kullanicidan üç aet sayi al ve en büyügü ve en kücügü bul\n",
    "sayi1=int(input(\"bir sayi giriniz\"))\n",
    "sayi2=int(input(\"bir sayi giriniz\"))\n",
    "sayi3=int(input(\"bir sayi giriniz\"))\n",
    "\n",
    "if sayi1>sayi2 and sayi1>sayi3:\n",
    "    print(\"sayi1 en büyük sayidir\")\n",
    "elif sayi2>sayi1 and sayi2>sayi3:\n",
    "    print(\"sayi2 en büyük sayidir\")\n",
    "else:\n",
    "     print(\"sayi3 en büyük sayidir\")        \n",
    "    \n",
    "    \n",
    "    "
   ]
  },
  {
   "cell_type": "code",
   "execution_count": 10,
   "metadata": {},
   "outputs": [
    {
     "name": "stdout",
     "output_type": "stream",
     "text": [
      "100.0\n",
      "gecti\n"
     ]
    }
   ],
   "source": [
    "# vize ve final hesaplamalari\n",
    "\n",
    "vize=int(input(\"vize notunuzu giriniz\"))\n",
    "final=int(input(\"final notuuzu giriniz\"))\n",
    "\n",
    "ortalama=(vize*0.4) + (final*0.6)\n",
    "\n",
    "print(ortalama)\n",
    "\n",
    "if ortalama>50:\n",
    "    print(\"gecti\")\n",
    "else:\n",
    "    print(\"kaldi\")\n"
   ]
  },
  {
   "cell_type": "code",
   "execution_count": 13,
   "metadata": {},
   "outputs": [
    {
     "name": "stdout",
     "output_type": "stream",
     "text": [
      "5050\n"
     ]
    }
   ],
   "source": [
    "# 1 den 100 e kadar olan sayilarin toplami\n",
    "toplam=0\n",
    "for t in range(101):\n",
    "    toplam+=t\n",
    "    \n",
    "print(toplam)    "
   ]
  },
  {
   "cell_type": "code",
   "execution_count": 15,
   "metadata": {},
   "outputs": [
    {
     "name": "stdout",
     "output_type": "stream",
     "text": [
      "16\n"
     ]
    }
   ],
   "source": [
    "#1 den n e kadar olan tek sayilarin toplami\n",
    "# 1.yol\n",
    "n=int(input(\"bir sayi giriniz\"))\n",
    "sum=0\n",
    "for k in range(n):\n",
    "    if k%2==1:\n",
    "        sum+=k\n",
    "print(sum)        \n",
    "        "
   ]
  },
  {
   "cell_type": "code",
   "execution_count": 20,
   "metadata": {},
   "outputs": [
    {
     "name": "stdout",
     "output_type": "stream",
     "text": [
      "0\n"
     ]
    }
   ],
   "source": [
    "#2.yol\n",
    "n=int(input(\"bir sayi giriniz\"))#olmadi tekrar dene\n",
    "su=0\n",
    "for h in range(1,n,1):\n",
    "    sum += h\n",
    "\n",
    "\n",
    "print(su)"
   ]
  },
  {
   "cell_type": "code",
   "execution_count": 5,
   "metadata": {},
   "outputs": [
    {
     "name": "stdout",
     "output_type": "stream",
     "text": [
      "7\n",
      "14\n",
      "21\n",
      "42\n"
     ]
    }
   ],
   "source": [
    "# n den m e kadar olan sayilardan 7 ye tam bölümlerin listesini yaziniz\n",
    "\n",
    "\n",
    "\n",
    "while True:\n",
    "    n=int(input(\"bir sayi giriniz\"))\n",
    "    m=int(input(\"bir sayi giriniz\"))\n",
    "    \n",
    "    if n>=m:\n",
    "        print(\"tekrar deger giriniz\")\n",
    "    else:\n",
    "        break\n",
    "\n",
    "sum=0\n",
    "for l in range(n,m):\n",
    "     if l % 7==0:\n",
    "         sum +=l\n",
    "         print(l)\n",
    "                \n",
    "    \n",
    "    \n",
    "print(sum)    \n",
    "        "
   ]
  },
  {
   "cell_type": "code",
   "execution_count": 13,
   "metadata": {},
   "outputs": [
    {
     "name": "stdout",
     "output_type": "stream",
     "text": [
      "demha\n",
      "5\n",
      "demha\n"
     ]
    }
   ],
   "source": [
    "#string bir ifadeyi tersten yazdirma\n",
    "#1.yol\n",
    "isim=input(\"bir isim giriniz\")\n",
    "\n",
    "print(isim[::-1])\n",
    "\n",
    "#2.yol\n",
    "uzunluk=len(isim)\n",
    "print(uzunluk)\n",
    "ters=\"\"\n",
    "for y in range(uzunluk-1,-1,-1):\n",
    "    ters +=isim[y]\n",
    "\n",
    "\n",
    "print(ters)"
   ]
  },
  {
   "cell_type": "code",
   "execution_count": 19,
   "metadata": {},
   "outputs": [
    {
     "name": "stdout",
     "output_type": "stream",
     "text": [
      "sesli harf sayisi : 3\n",
      "sessiz harf sayisi : 5\n"
     ]
    }
   ],
   "source": [
    "#bir metineki sesli ve sessiz harf sayisini bulunuz\n",
    "\n",
    "metin=input(\"bir metin giriniz\")\n",
    "\n",
    "sesli=\"aeıioöuü\"\n",
    "sesli_sayac=0\n",
    "\n",
    "for harf in metin:\n",
    "    if harf in sesli:\n",
    "        sesli_sayac +=1\n",
    "        \n",
    "\n",
    "print(\"sesli harf sayisi :\",sesli_sayac)\n",
    "print(\"sessiz harf sayisi :\",len(metin)-sesli_sayac)        "
   ]
  },
  {
   "cell_type": "code",
   "execution_count": null,
   "metadata": {},
   "outputs": [],
   "source": [
    "#asal sayilar anlamadim\n",
    "\n",
    "sayac=0\n",
    "for i in range(3,25):\n",
    "    for j in range(2,i):\n",
    "        if (i%j==0):\n",
    "           sayac +=1\n",
    "           print(i)\n",
    "             \n",
    "\n",
    "           "
   ]
  },
  {
   "cell_type": "code",
   "execution_count": 28,
   "metadata": {},
   "outputs": [
    {
     "name": "stdout",
     "output_type": "stream",
     "text": [
      "[49, 21, 58, 14, 68, 54, 4, 14, 49, 74, 9, 21, 4, 10, 26]\n"
     ]
    }
   ],
   "source": [
    "#random liste olusturma\n",
    "a=int(input(\"olusturmak istediginiz liste eleman sayisi giriniz\"))\n",
    "\n",
    "import random\n",
    "\n",
    "bos=[]\n",
    "\n",
    "for i in range(a):\n",
    "    bos.append(random.randint(0,100))\n",
    "\n",
    "print(bos)    "
   ]
  },
  {
   "cell_type": "code",
   "execution_count": 30,
   "metadata": {},
   "outputs": [
    {
     "name": "stdout",
     "output_type": "stream",
     "text": [
      "[[0, 0, 0], [0, 0, 0], [0, 0, 0]]\n"
     ]
    }
   ],
   "source": [
    "#matris olusturma\n",
    "m1=[[0 for d in range(3)] for g in range(3)]\n",
    "\n",
    "print(m1)"
   ]
  },
  {
   "cell_type": "code",
   "execution_count": null,
   "metadata": {},
   "outputs": [],
   "source": []
  },
  {
   "cell_type": "code",
   "execution_count": null,
   "metadata": {},
   "outputs": [],
   "source": []
  }
 ],
 "metadata": {
  "kernelspec": {
   "display_name": "Python 3.10.7 64-bit (microsoft store)",
   "language": "python",
   "name": "python3"
  },
  "language_info": {
   "codemirror_mode": {
    "name": "ipython",
    "version": 3
   },
   "file_extension": ".py",
   "mimetype": "text/x-python",
   "name": "python",
   "nbconvert_exporter": "python",
   "pygments_lexer": "ipython3",
   "version": "3.10.7"
  },
  "orig_nbformat": 4,
  "vscode": {
   "interpreter": {
    "hash": "7b60276908c3349bf0a2cf69de4d7bf4bae3bf371057c4ac156f4be27a89a82c"
   }
  }
 },
 "nbformat": 4,
 "nbformat_minor": 2
}
