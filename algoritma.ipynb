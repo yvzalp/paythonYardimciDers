{
 "cells": [
  {
   "cell_type": "code",
   "execution_count": 4,
   "metadata": {},
   "outputs": [
    {
     "data": {
      "text/plain": [
       "range(1, 5)"
      ]
     },
     "execution_count": 4,
     "metadata": {},
     "output_type": "execute_result"
    }
   ],
   "source": [
    "girdi=int(input(\"bir sayi giriniz\"))\n",
    "\n",
    "print(girdi)"
   ]
  },
  {
   "cell_type": "code",
   "execution_count": 10,
   "metadata": {},
   "outputs": [
    {
     "name": "stdout",
     "output_type": "stream",
     "text": [
      "3 5 7 9 11 13 15 "
     ]
    }
   ],
   "source": [
    "#girilen sayi yazdirma \n",
    "girdi=int(input(\"bir sayi giriniz\"))\n",
    "\n",
    "for i in range(3,girdi+1,2): #burda range method ile girilen sayiyi 3 ten baslayip tek sayi halinde yazdirdi\n",
    "    print(i,end=\" \")       #eger 2 ile başlasaydi çift sayilari yazdiracakti\n",
    "                           # end=\"\" ile tek satirda yazdirdik\n",
    "                           #range son sayi almiyor +1 ile son sayi yazdirmak için"
   ]
  },
  {
   "cell_type": "code",
   "execution_count": 12,
   "metadata": {},
   "outputs": [
    {
     "name": "stdout",
     "output_type": "stream",
     "text": [
      "10\n"
     ]
    }
   ],
   "source": [
    "#girilen sayi yakadar olan rakamlari toplama işlemi\n",
    "girdi=int(input(\"bir sayi giriniz\"))\n",
    "\n",
    "sum=0\n",
    "for x in range(girdi+1):\n",
    "    sum+=x\n",
    "\n",
    "\n",
    "print(sum)    "
   ]
  },
  {
   "cell_type": "code",
   "execution_count": 3,
   "metadata": {},
   "outputs": [
    {
     "name": "stdout",
     "output_type": "stream",
     "text": [
      "20\n"
     ]
    }
   ],
   "source": [
    "# o girene kadar toplasin\n",
    "\n",
    "sum=0\n",
    "while True:\n",
    "    girdi=int(input(\"bir sayi giriniz\")) #burda (if girdi!=0:) şarti konulabilir\n",
    "    sum=sum+girdi\n",
    "    \n",
    "    if girdi==0:\n",
    "        break\n",
    "        \n",
    "print(sum)    "
   ]
  },
  {
   "cell_type": "code",
   "execution_count": 4,
   "metadata": {},
   "outputs": [
    {
     "name": "stdout",
     "output_type": "stream",
     "text": [
      "[2, 1, 5, 8]\n"
     ]
    }
   ],
   "source": [
    "#liste ye sayilari ekleyelim 0 girene kadar evam etsin bu\n",
    "sayiListe=[]\n",
    "while True:\n",
    "    girdi=int(input(\"bir sayi giriniz\"))\n",
    "    if girdi!=0:\n",
    "        sayiListe.append(girdi)\n",
    "    else:\n",
    "        break\n",
    "    \n",
    "        \n",
    "print(sayiListe) \n"
   ]
  },
  {
   "cell_type": "code",
   "execution_count": null,
   "metadata": {},
   "outputs": [],
   "source": [
    "#meyve isimleri gir x tusuna basilinca dur meyveleri listele,kac tane oldugunu yazdir\n",
    "\n",
    "meyveListe=[]\n",
    "while True:  \n",
    "    meyve=input(\"bir sayi giriniz\")     #cözüm bende calişmadi\n",
    "    if meyve != \"x\":\n",
    "        meyveListe.append(meyve)\n",
    "    \n",
    "    else:\n",
    "       break\n",
    "    \n",
    "    \n",
    "        \n",
    "print(sayiListe) "
   ]
  },
  {
   "cell_type": "code",
   "execution_count": null,
   "metadata": {},
   "outputs": [],
   "source": []
  }
 ],
 "metadata": {
  "kernelspec": {
   "display_name": "Python 3.10.7 64-bit (microsoft store)",
   "language": "python",
   "name": "python3"
  },
  "language_info": {
   "codemirror_mode": {
    "name": "ipython",
    "version": 3
   },
   "file_extension": ".py",
   "mimetype": "text/x-python",
   "name": "python",
   "nbconvert_exporter": "python",
   "pygments_lexer": "ipython3",
   "version": "3.10.7"
  },
  "orig_nbformat": 4,
  "vscode": {
   "interpreter": {
    "hash": "7b60276908c3349bf0a2cf69de4d7bf4bae3bf371057c4ac156f4be27a89a82c"
   }
  }
 },
 "nbformat": 4,
 "nbformat_minor": 2
}
