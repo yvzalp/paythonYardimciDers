{
 "cells": [
  {
   "cell_type": "code",
   "execution_count": null,
   "metadata": {},
   "outputs": [],
   "source": [
    "#yasimin 2 kati \n",
    "print(\"yasinizin 2 kati \"+str(int(input(\"yasinizi giriniz\"))*2)) #burda inpu sayi aldim int cevirdim\n",
    "                                                                 # ve concat yapmak için str cevirdim\n",
    "                                                                 \n",
    "print(\"fghjk\",2)#burda araya + konulmaz                                                                 \n",
    "                                                                 "
   ]
  }
 ],
 "metadata": {
  "kernelspec": {
   "display_name": "Python 3.10.7 64-bit (microsoft store)",
   "language": "python",
   "name": "python3"
  },
  "language_info": {
   "codemirror_mode": {
    "name": "ipython",
    "version": 3
   },
   "file_extension": ".py",
   "mimetype": "text/x-python",
   "name": "python",
   "nbconvert_exporter": "python",
   "pygments_lexer": "ipython3",
   "version": "3.10.7"
  },
  "orig_nbformat": 4,
  "vscode": {
   "interpreter": {
    "hash": "7b60276908c3349bf0a2cf69de4d7bf4bae3bf371057c4ac156f4be27a89a82c"
   }
  }
 },
 "nbformat": 4,
 "nbformat_minor": 2
}
