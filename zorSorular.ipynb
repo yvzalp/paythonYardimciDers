{
 "cells": [
  {
   "cell_type": "code",
   "execution_count": 1,
   "metadata": {},
   "outputs": [
    {
     "name": "stdout",
     "output_type": "stream",
     "text": [
      "12\n",
      "25\n",
      "18\n",
      "24\n",
      "None\n"
     ]
    }
   ],
   "source": [
    "#soru 1\n",
    "\n",
    "z=3\n",
    "def Oracle(a,b,c):\n",
    "    if a==42:\n",
    "        return b(c)\n",
    "    \n",
    "def Fonk0(x):\n",
    "    return z+x**2\n",
    "\n",
    "def Fonk1(y):\n",
    "    global z   #z global degişken her yerden ulaşilabir ve değiştirilebilir son aldigi deger gecerli olur\n",
    "    z=z+y*2\n",
    "    return z+y   \n",
    "    \n",
    "print(Oracle(42,Fonk1,3))\n",
    "print(Oracle(42,Fonk0,4))\n",
    "print(Oracle(42,Fonk1,3))\n",
    "print(Oracle(42,Fonk1,3))\n",
    "print(Oracle(22,Fonk1,3))    "
   ]
  },
  {
   "cell_type": "code",
   "execution_count": 3,
   "metadata": {},
   "outputs": [
    {
     "name": "stdout",
     "output_type": "stream",
     "text": [
      "7\n",
      "3\n"
     ]
    }
   ],
   "source": [
    "#global degişken\n",
    "\n",
    "aa=3\n",
    "def bike():\n",
    "    aa=7\n",
    "    return aa\n",
    "\n",
    "print(bike())  # bike method u aa=7 döürdü\n",
    "print(aa)      # aa burda ilk degerini döndürdü,cünkü global olrak tanimli degi.method icerisindeki egişiklik scopta kaldi"
   ]
  },
  {
   "cell_type": "code",
   "execution_count": 1,
   "metadata": {},
   "outputs": [
    {
     "name": "stdout",
     "output_type": "stream",
     "text": [
      "50\n"
     ]
    }
   ],
   "source": [
    "#iç içe method\n",
    "\n",
    "def disMethod():\n",
    "    b=20\n",
    "    def içMethod():\n",
    "        b=10\n",
    "        c=30\n",
    "        return c #return c dedigi için içMethod 30 döndürür\n",
    "    return içMethod()+b  #dis method return,burdaki b=30 olarak gelir\n",
    "\n",
    "\n",
    "print(disMethod())"
   ]
  },
  {
   "cell_type": "code",
   "execution_count": 1,
   "metadata": {},
   "outputs": [],
   "source": [
    "#dosya kaydetme\n",
    "\n",
    "#fileObject=open(\"vergi_listesi.txt\",\"a\")# -a- var olani silmez devamina yazar\n",
    "\n",
    "while True:\n",
    "    tc=input(\"tc kimlik giriniz (cıkmak icin enter basiniz)\")\n",
    "    if tc== \"\":\n",
    "        break\n",
    "    isim=input(\"isim giriniz\")\n",
    "    soyisim=input(\"soy isminizi giriniz\")\n",
    "    borc=input(\"borc giriniz\")\n",
    "    with open(\"vergi_listesi.txt\",\"a\") as fileObject: #böyle yazinca en alttaki ve en üstteki satirlara ihtiyac kalmaya,ayrica close ihtitac yok\n",
    "        fileObject.write(f\"{tc},{isim},{soyisim},{borc} \")\n",
    "      \n",
    "             \n",
    "#fileObject.close \n",
    "   \n",
    "       \n",
    "         \n",
    "         "
   ]
  }
 ],
 "metadata": {
  "kernelspec": {
   "display_name": "Python 3.10.7 64-bit (microsoft store)",
   "language": "python",
   "name": "python3"
  },
  "language_info": {
   "codemirror_mode": {
    "name": "ipython",
    "version": 3
   },
   "file_extension": ".py",
   "mimetype": "text/x-python",
   "name": "python",
   "nbconvert_exporter": "python",
   "pygments_lexer": "ipython3",
   "version": "3.10.7"
  },
  "orig_nbformat": 4,
  "vscode": {
   "interpreter": {
    "hash": "7b60276908c3349bf0a2cf69de4d7bf4bae3bf371057c4ac156f4be27a89a82c"
   }
  }
 },
 "nbformat": 4,
 "nbformat_minor": 2
}
